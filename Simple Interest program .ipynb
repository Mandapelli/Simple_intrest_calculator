{
 "cells": [
  {
   "cell_type": "code",
   "execution_count": 2,
   "id": "81c85f86-05af-42a2-af2b-0380f26714f8",
   "metadata": {},
   "outputs": [
    {
     "name": "stdin",
     "output_type": "stream",
     "text": [
      "Enter the principal amount:  2000\n",
      "Enter the rate of interest (in %):  6\n",
      "Enter the time period (in years):  3\n"
     ]
    },
    {
     "name": "stdout",
     "output_type": "stream",
     "text": [
      "\n",
      "Simple Interest: 360.0\n",
      "Total Amount after 3.0 years: 2360.0\n"
     ]
    }
   ],
   "source": [
    "principal = float(input(\"Enter the principal amount: \"))\n",
    "rate = float(input(\"Enter the rate of interest (in %): \"))\n",
    "time = float(input(\"Enter the time period (in years): \"))\n",
    "\n",
    "simple_interest = (principal * rate * time) / 100\n",
    "total_amount = principal + simple_interest\n",
    "\n",
    "print(f\"\\nSimple Interest: {simple_interest}\")\n",
    "print(f\"Total Amount after {time} years: {total_amount}\")\n"
   ]
  }
 ],
 "metadata": {
  "kernelspec": {
   "display_name": "Python 3 (ipykernel)",
   "language": "python",
   "name": "python3"
  },
  "language_info": {
   "codemirror_mode": {
    "name": "ipython",
    "version": 3
   },
   "file_extension": ".py",
   "mimetype": "text/x-python",
   "name": "python",
   "nbconvert_exporter": "python",
   "pygments_lexer": "ipython3",
   "version": "3.12.4"
  }
 },
 "nbformat": 4,
 "nbformat_minor": 5
}
